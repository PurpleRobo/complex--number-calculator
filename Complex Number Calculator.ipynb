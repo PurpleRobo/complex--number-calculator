{
 "cells": [
  {
   "cell_type": "markdown",
   "metadata": {},
   "source": [
    "# Creation Of Calculator"
   ]
  },
  {
   "cell_type": "code",
   "execution_count": 1,
   "metadata": {},
   "outputs": [],
   "source": [
    "import math\n",
    "\n",
    "\n",
    "class complex_numbers:\n",
    "    def __init__(self, real, imag):\n",
    "        self.real = real\n",
    "        self.imag = imag\n",
    "\n",
    "    def __repr__(self):\n",
    "        if self.real == 0.0 and self.imag == 0.0:\n",
    "            return \"0.00\"\n",
    "        if self.real == 0:\n",
    "            return \"%.2fi\" % self.imag\n",
    "        if self.imag == 0:\n",
    "            return \"%.2f\" % self.real\n",
    "        return \"%.2f %s %.2fi\" % (self.real, \"+\" if self.imag >= 0 else \"-\",\n",
    "                                  abs(self.imag))\n",
    "\n",
    "    def __add__(self, other):\n",
    "        a = self.real + other.real\n",
    "        b = self.imag + other.imag\n",
    "        return complex(a, b)\n",
    "\n",
    "    def __sub__(self, other):\n",
    "        a = self.real - other.real\n",
    "        b = self.imag - other.imag\n",
    "        return complex(a, b)\n",
    "\n",
    "    def __mul__(self, other):\n",
    "        a = ((self.real * other.real) - (self.imag * other.imag))\n",
    "        b = ((self.imag * other.real) + (self.real * other.imag))\n",
    "        return complex(a, b)\n",
    "\n",
    "    def __truediv__(self, other):\n",
    "        a = ((self.real * other.real) +\n",
    "             (self.imag * other.imag)) / (other.real**2 + other.imag**2)\n",
    "        b = ((self.imag * other.real) -\n",
    "             (self.real * other.imag)) / (other.real**2 + other.imag**2)\n",
    "        return complex(a, b)\n",
    "\n",
    "    def absolute(self):\n",
    "        a = ((self.real**2) + (self.imag**2))**0.5\n",
    "        return a\n",
    "\n",
    "    def argument(self):\n",
    "        a = math.degrees(math.atan(self.imag / self.real))\n",
    "        return a\n",
    "\n",
    "    def conjugate(self):\n",
    "        a = self.real\n",
    "        b = -self.imag\n",
    "        return complex(a, b)\n",
    "\n",
    "\n",
    "comp_1    = complex_numbers(3, 5)\n",
    "comp_2    = complex_numbers(4, 4)\n",
    "comp_sum  = comp_1.__add__(comp_2)\n",
    "comp_diff = comp_1.__sub__(comp_2)\n",
    "comp_prod = comp_1.__mul__(comp_2)\n",
    "comp_quot = comp_1.__truediv__(comp_2)\n",
    "comp_abs  = comp_1.absolute()\n",
    "comp_arg  = comp_1.argument()\n",
    "comp_conj = comp_1.conjugate()"
   ]
  }
 ],
 "metadata": {
  "kernelspec": {
   "display_name": "Python 3",
   "language": "python",
   "name": "python3"
  },
  "language_info": {
   "codemirror_mode": {
    "name": "ipython",
    "version": 3
   },
   "file_extension": ".py",
   "mimetype": "text/x-python",
   "name": "python",
   "nbconvert_exporter": "python",
   "pygments_lexer": "ipython3",
   "version": "3.7.6"
  },
  "varInspector": {
   "cols": {
    "lenName": 16,
    "lenType": 16,
    "lenVar": 40
   },
   "kernels_config": {
    "python": {
     "delete_cmd_postfix": "",
     "delete_cmd_prefix": "del ",
     "library": "var_list.py",
     "varRefreshCmd": "print(var_dic_list())"
    },
    "r": {
     "delete_cmd_postfix": ") ",
     "delete_cmd_prefix": "rm(",
     "library": "var_list.r",
     "varRefreshCmd": "cat(var_dic_list()) "
    }
   },
   "types_to_exclude": [
    "module",
    "function",
    "builtin_function_or_method",
    "instance",
    "_Feature"
   ],
   "window_display": false
  }
 },
 "nbformat": 4,
 "nbformat_minor": 4
}
